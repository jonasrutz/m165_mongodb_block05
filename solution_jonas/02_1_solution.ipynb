{
 "cells": [
  {
   "metadata": {
    "ExecuteTime": {
     "end_time": "2024-12-17T08:32:00.027552Z",
     "start_time": "2024-12-17T08:31:59.660151Z"
    }
   },
   "cell_type": "code",
   "source": [
    "import pymongo\n",
    "myclient = pymongo.MongoClient(\"mongodb://localhost:27017/\")\n",
    "mydb = myclient[\"moviesDB\"]\n",
    "mycol = mydb[\"movies\"]"
   ],
   "id": "254828282fab5e90",
   "outputs": [],
   "execution_count": 1
  },
  {
   "metadata": {
    "ExecuteTime": {
     "end_time": "2024-12-17T08:42:21.079179Z",
     "start_time": "2024-12-17T08:42:21.027596Z"
    }
   },
   "cell_type": "code",
   "source": [
    "myclient = pymongo.MongoClient(\"mongodb://localhost:27017/\")\n",
    "mydb = myclient[\"moviesDB\"]\n",
    "mycol = mydb[\"movies\"]\n",
    "\n",
    "data1=[ \n",
    "    {\n",
    "    \"movieId\": \"14253\",\n",
    "    \"title\": \"Beauty and the Beast\",\n",
    "    \"releaseYear\": \"2016\",\n",
    "    \"language\": \"English\",\n",
    "    \"imdbRating\": {\n",
    "        \"rating\": \"6.4\"\n",
    "    },\n",
    "    \"genre\": \"Romance\",\n",
    "    \"director\": \"Christophe Gans\",\n",
    "    \"runtime\": \"112\"\n",
    "}]\n",
    "\n",
    "movies = mycol.insert_many(data1)"
   ],
   "id": "cc5cfd92949ef7a2",
   "outputs": [],
   "execution_count": 2
  },
  {
   "metadata": {
    "ExecuteTime": {
     "end_time": "2024-12-17T08:46:49.557172Z",
     "start_time": "2024-12-17T08:46:49.524515Z"
    }
   },
   "cell_type": "code",
   "source": [
    "myclient = pymongo.MongoClient(\"mongodb://localhost:27017/\")\n",
    "mydb = myclient[\"moviesDB\"]\n",
    "mycol = mydb[\"movies\"]\n",
    "\n",
    "data2=[{\n",
    "  \"id\": 14253,\n",
    "  \"title\": \"Beauty and the Beast\",\n",
    "  \"year\": 2016,\n",
    "  \"language\": \"English\",\n",
    "  \"imdb_rating\": {\n",
    "    \"rating\": 7.1,\n",
    "    \"votes\": 341000\n",
    "  },\n",
    "  \"tomatoes\": {\n",
    "    \"viewer\": {\n",
    "      \"raiting\": 3.9,\n",
    "      \"votes\": 238\n",
    "    },\n",
    "    \"critics\": {\n",
    "      \"rating\": 7.5,\n",
    "      \"votes\": 1000\n",
    "    }\n",
    "  },\n",
    "  \"fresh\": 10,\n",
    "  \"verotten\": 50,\n",
    "  \"genre\": \"Romance\",\n",
    "  \"director\": \"Christophe Gans\",\n",
    "  \"runtime\": 112\n",
    "}]\n",
    "\n",
    "movies = mycol.insert_many(data2)"
   ],
   "id": "f510b28fdfc9905b",
   "outputs": [],
   "execution_count": 3
  },
  {
   "metadata": {
    "ExecuteTime": {
     "end_time": "2024-12-17T08:47:55.142104Z",
     "start_time": "2024-12-17T08:47:55.128542Z"
    }
   },
   "cell_type": "code",
   "source": [
    "myclient = pymongo.MongoClient(\"mongodb://localhost:27017/\")\n",
    "mydb = myclient[\"moviesDB\"]\n",
    "mycol = mydb[\"movies\"]\n",
    "\n",
    "mycol.drop()"
   ],
   "id": "3a7e2c91d098ccf3",
   "outputs": [],
   "execution_count": 4
  }
 ],
 "metadata": {
  "kernelspec": {
   "display_name": "Python 3",
   "language": "python",
   "name": "python3"
  },
  "language_info": {
   "codemirror_mode": {
    "name": "ipython",
    "version": 2
   },
   "file_extension": ".py",
   "mimetype": "text/x-python",
   "name": "python",
   "nbconvert_exporter": "python",
   "pygments_lexer": "ipython2",
   "version": "2.7.6"
  }
 },
 "nbformat": 4,
 "nbformat_minor": 5
}
