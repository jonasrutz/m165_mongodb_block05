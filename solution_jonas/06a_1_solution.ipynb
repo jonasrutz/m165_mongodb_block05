{
 "cells": [
  {
   "cell_type": "code",
   "id": "initial_id",
   "metadata": {
    "collapsed": true,
    "jupyter": {
     "is_executing": true
    }
   },
   "source": [
    "import pymongo\n",
    "\n",
    "# Verbindung zur MongoDB herstellen\n",
    "myclient = pymongo.MongoClient(\"mongodb://localhost:27017/\")\n",
    "mydb = myclient[\"mflix_labs\"]  # Datenbank \"mflix_labs\" verwenden\n",
    "movies_collection = mydb[\"movies\"]  # Collection \"movies\"\n",
    "\n",
    "# 2. Löschen aller Filme, die weder in Staffel 1 bis 8 noch in den Teilen 1 bis 6 sind\n",
    "query2 = {\n",
    "    \"$and\": [\n",
    "        {\"season\": {\"$not\": {\"$gte\": 1, \"$lte\": 8}}},\n",
    "        {\"part\": {\"$not\": {\"$gte\": 1, \"$lte\": 6}}}\n",
    "    ]\n",
    "}\n",
    "result2 = movies_collection.delete_many(query2)\n",
    "print(f\"Gelöschte Filme, nicht in Staffel 1-8 oder Teil 1-6: {result2.deleted_count}\")\n",
    "\n",
    "# 3. Löschen aller Filme der Staffel 10\n",
    "query3 = {\"season\": 10}\n",
    "result3 = movies_collection.delete_many(query3)\n",
    "print(f\"Gelöschte Filme der Staffel 10: {result3.deleted_count}\")\n",
    "\n",
    "# 4. Löschen aller Filme der Staffel 3 und 6\n",
    "query4 = {\"season\": {\"$in\": [3, 6]}}\n",
    "result4 = movies_collection.delete_many(query4)\n",
    "print(f\"Gelöschte Filme der Staffel 3 und 6: {result4.deleted_count}\")\n",
    "\n",
    "# 5. Löschen aller Filme der Teile 2 und 4\n",
    "query5 = {\"part\": {\"$in\": [2, 4]}}\n",
    "result5 = movies_collection.delete_many(query5)\n",
    "print(f\"Gelöschte Filme der Teile 2 und 4: {result5.deleted_count}\")\n"
   ],
   "outputs": [],
   "execution_count": null
  },
  {
   "metadata": {},
   "cell_type": "code",
   "outputs": [],
   "execution_count": null,
   "source": "",
   "id": "a5e11facae0c77f"
  }
 ],
 "metadata": {
  "kernelspec": {
   "display_name": "Python 3",
   "language": "python",
   "name": "python3"
  },
  "language_info": {
   "codemirror_mode": {
    "name": "ipython",
    "version": 2
   },
   "file_extension": ".py",
   "mimetype": "text/x-python",
   "name": "python",
   "nbconvert_exporter": "python",
   "pygments_lexer": "ipython2",
   "version": "2.7.6"
  }
 },
 "nbformat": 4,
 "nbformat_minor": 5
}
