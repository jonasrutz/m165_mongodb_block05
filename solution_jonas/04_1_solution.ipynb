{
 "cells": [
  {
   "metadata": {},
   "cell_type": "markdown",
   "source": "## Verbinden Sie sich mit Ihrer Datenbank",
   "id": "58f505302fc3bf3a"
  },
  {
   "metadata": {
    "ExecuteTime": {
     "end_time": "2025-01-07T07:39:05.085409Z",
     "start_time": "2025-01-07T07:39:04.354574Z"
    }
   },
   "cell_type": "code",
   "source": [
    "import pymongo\n",
    "myclient = pymongo.MongoClient(\"mongodb://localhost:27017/\")\n",
    "mydb = myclient[\"moviesDB\"]\n",
    "print(myclient.list_database_names())"
   ],
   "id": "7d20304b48e2d72c",
   "outputs": [
    {
     "name": "stdout",
     "output_type": "stream",
     "text": [
      "['admin', 'config', 'local', 'mflix', 'moviesDB']\n"
     ]
    }
   ],
   "execution_count": 1
  },
  {
   "metadata": {},
   "cell_type": "markdown",
   "source": "### Abfragen auf der mflix db machen",
   "id": "220c590dca017bf8"
  },
  {
   "metadata": {},
   "cell_type": "markdown",
   "source": [
    "1. Die Anzahl der Filme, in denen der Schauspieler mitgespielt hat (Leonardo DiCaprio)\n",
    "2. das Genre dieser Filme \n",
    "3. Filmtitel und ihre jeweiligen Erscheinungsjahre \n",
    "4. Die Anzahl der Filme, bei denen er Regie geführt hat"
   ],
   "id": "2f0f16ba1b83ddc9"
  },
  {
   "metadata": {
    "ExecuteTime": {
     "end_time": "2025-01-07T07:46:04.871244Z",
     "start_time": "2025-01-07T07:46:04.868140Z"
    }
   },
   "cell_type": "code",
   "source": "",
   "id": "811ddaed52ec1d43",
   "outputs": [
    {
     "name": "stdout",
     "output_type": "stream",
     "text": [
      "1\n"
     ]
    }
   ],
   "execution_count": 2
  }
 ],
 "metadata": {
  "kernelspec": {
   "display_name": "Python 3",
   "language": "python",
   "name": "python3"
  },
  "language_info": {
   "codemirror_mode": {
    "name": "ipython",
    "version": 2
   },
   "file_extension": ".py",
   "mimetype": "text/x-python",
   "name": "python",
   "nbconvert_exporter": "python",
   "pygments_lexer": "ipython2",
   "version": "2.7.6"
  }
 },
 "nbformat": 4,
 "nbformat_minor": 5
}
