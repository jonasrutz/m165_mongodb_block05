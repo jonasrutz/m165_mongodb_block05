{
 "cells": [
  {
   "metadata": {
    "ExecuteTime": {
     "end_time": "2025-01-07T08:21:22.805698Z",
     "start_time": "2025-01-07T08:21:21.433853Z"
    }
   },
   "cell_type": "code",
   "source": [
    "from pymongo import MongoClient\n",
    "\n",
    "# Verbindung zur MongoDB-Datenbank herstellen\n",
    "client = MongoClient(\"mongodb://localhost:27017/\")\n",
    "db = client[\"mflix\"]\n",
    "\n",
    "# Anzahl der Filme, in denen Leonardo DiCaprio mitgespielt hat\n",
    "actor_count = db.movies.count_documents({\"actors\": \"Leonardo DiCaprio\"})\n",
    "print(f\"Anzahl der Filme mit Leonardo DiCaprio: {actor_count}\")\n",
    "\n",
    "# Filmtitel, Genre und Erscheinungsjahre\n",
    "projection = {\"title\": 1, \"genre\": 1, \"year\": 1, \"_id\": 0}\n",
    "print(\"Filme mit Leonardo DiCaprio (Titel, Genre, Jahr):\")\n",
    "for movie in db.movies.find({\"actors\": \"Leonardo DiCaprio\"}, projection):\n",
    "    print(movie)\n",
    "\n",
    "# Anzahl der Filme, bei denen Leonardo DiCaprio Regie geführt hat\n",
    "director_count = db.movies.count_documents({\"director\": \"Leonardo DiCaprio\"})\n",
    "print(f\"Anzahl der Filme, die Leonardo DiCaprio inszeniert hat: {director_count}\")"
   ],
   "id": "69a5d8e40b116800",
   "outputs": [
    {
     "name": "stdout",
     "output_type": "stream",
     "text": [
      "Anzahl der Filme mit Leonardo DiCaprio: 0\n",
      "Filme mit Leonardo DiCaprio (Titel, Genre, Jahr):\n",
      "Anzahl der Filme, die Leonardo DiCaprio inszeniert hat: 0\n"
     ]
    }
   ],
   "execution_count": 1
  },
  {
   "metadata": {},
   "cell_type": "code",
   "outputs": [],
   "execution_count": null,
   "source": "",
   "id": "1600de4df443f92a"
  }
 ],
 "metadata": {
  "kernelspec": {
   "display_name": "Python 3",
   "language": "python",
   "name": "python3"
  },
  "language_info": {
   "codemirror_mode": {
    "name": "ipython",
    "version": 2
   },
   "file_extension": ".py",
   "mimetype": "text/x-python",
   "name": "python",
   "nbconvert_exporter": "python",
   "pygments_lexer": "ipython2",
   "version": "2.7.6"
  }
 },
 "nbformat": 4,
 "nbformat_minor": 5
}
