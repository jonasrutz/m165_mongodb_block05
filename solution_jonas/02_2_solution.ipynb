{
 "cells": [
  {
   "cell_type": "code",
   "id": "initial_id",
   "metadata": {
    "collapsed": true,
    "ExecuteTime": {
     "end_time": "2024-12-17T08:57:36.894329Z",
     "start_time": "2024-12-17T08:57:36.676145Z"
    }
   },
   "source": [
    "import pymongo\n",
    "myclient = pymongo.MongoClient(\"mongodb://localhost:27017/\")\n",
    "mydb = myclient[\"moviesDB\"]\n",
    "mycol = mydb[\"movies\"]\n",
    "\n",
    "myclient = pymongo.MongoClient(\"mongodb://localhost:27017/\")\n",
    "mydb = myclient[\"moviesDB\"]\n",
    "mycol = mydb[\"movies\"]\n",
    "\n",
    "beautyandbeast = [{\n",
    "    \"id\": 14253,\n",
    "    \"Title\": \"Beauty and the Beast\",\n",
    "    \"year\": 2016,\n",
    "    \"language\": \"English\",\n",
    "    \"genre\": \"Romance\",\n",
    "    \"director\": \"Christophe Gans\",\n",
    "    \"runtime\": 112,\n",
    "    \"imdb\": {\n",
    "        \"rating\": 6.4,\n",
    "        \"votes\": \"17762\"\n",
    "    },\n",
    "    \"tomatoes\": {\n",
    "        \"viewer\": {\n",
    "            \"rating\": 3.9,\n",
    "            \"votes\": 238\n",
    "        },\n",
    "        \"critic\": {\n",
    "            \"rating\": 4.2,\n",
    "            \"votes\": 8\n",
    "        },\n",
    "        \"fresh\": 96,\n",
    "        \"rotten\": 7\n",
    "    },\n",
    "    \"comments\": [\n",
    "        {\n",
    "            \"name\": \"Talisa Maegyr\",\n",
    "            \"email\": \"oona_chaplin@gameofthron.es\",\n",
    "            \"text\": \"Rem itaque ad sit rem voluptatibus. Ad fugiat...\",\n",
    "            \"date\": \"1998-08-22T11:45:03.000+00:00\"\n",
    "        },\n",
    "        {\n",
    "            \"name\": \"Melisandre\",\n",
    "            \"email\": \"carice_van_houten@gameofthron.es\",\n",
    "            \"text\": \"Perspiciatis non debitis magnam. Voluptate...\",\n",
    "            \"date\": \"1974-06-22T07:31:47.000+00:00\"\n",
    "        }\n",
    "    ]\n",
    "}]\n",
    "\n",
    "movies = mycol.insert_many(beautyandbeast) "
   ],
   "outputs": [],
   "execution_count": 1
  },
  {
   "metadata": {},
   "cell_type": "code",
   "outputs": [],
   "execution_count": null,
   "source": "",
   "id": "bd92aa119adfcd4d"
  }
 ],
 "metadata": {
  "kernelspec": {
   "display_name": "Python 3",
   "language": "python",
   "name": "python3"
  },
  "language_info": {
   "codemirror_mode": {
    "name": "ipython",
    "version": 2
   },
   "file_extension": ".py",
   "mimetype": "text/x-python",
   "name": "python",
   "nbconvert_exporter": "python",
   "pygments_lexer": "ipython2",
   "version": "2.7.6"
  }
 },
 "nbformat": 4,
 "nbformat_minor": 5
}
