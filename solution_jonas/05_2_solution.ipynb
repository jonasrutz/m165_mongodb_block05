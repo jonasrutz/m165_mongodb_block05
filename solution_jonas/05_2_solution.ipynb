{
 "cells": [
  {
   "cell_type": "code",
   "id": "initial_id",
   "metadata": {
    "collapsed": true,
    "ExecuteTime": {
     "end_time": "2025-01-07T08:57:49.664458Z",
     "start_time": "2025-01-07T08:57:49.215514Z"
    }
   },
   "source": [
    "import pymongo\n",
    "\n",
    "# Verbindung zur MongoDB herstellen\n",
    "myclient = pymongo.MongoClient(\"mongodb://localhost:27017/\")\n",
    "mydb = myclient[\"mflix\"]  # Datenbank \"mflix\" verwenden\n",
    "movies_collection = mydb[\"movies\"]  # Collection \"movies\"\n",
    "\n",
    "# Funktion zum Suchen von Filmen nach Genre und Paginieren von Ergebnissen\n",
    "def find_movies_by_genre(genre, page_number, page_size):\n",
    "    # Berechnung der Anzahl zu überspringender Dokumente\n",
    "    skip = (page_number - 1) * page_size\n",
    "    \n",
    "    # Abfrage: Filme nach Genre filtern, nach IMDb-Bewertung sortieren, paginieren\n",
    "    results = movies_collection.find(\n",
    "        {\"genres\": genre},  # Filter: Genre\n",
    "        {\"title\": 1, \"imdb.rating\": 1, \"_id\": 0}  # Projektion: Nur Titel und IMDb-Bewertung\n",
    "    ).sort(\n",
    "        \"imdb.rating\", -1  # Sortierung: Absteigend nach IMDb-Bewertung\n",
    "    ).skip(\n",
    "        skip  # Ergebnisse überspringen\n",
    "    ).limit(\n",
    "        page_size  # Ergebnisse begrenzen\n",
    "    )\n",
    "    \n",
    "    # Konvertieren der Ergebnisse in ein Array und Ausgabe der Titel\n",
    "    movies = list(results)\n",
    "    print(f\"Seite {page_number} mit Seitengröße {page_size}:\")\n",
    "    for movie in movies:\n",
    "        print(movie[\"title\"], f\"(IMDb: {movie.get('imdb', {}).get('rating', 'N/A')})\")\n",
    "\n",
    "# Beispielaufruf der Funktion\n",
    "find_movies_by_genre(\"Drama\", page_number=1, page_size=5)\n"
   ],
   "outputs": [
    {
     "name": "stdout",
     "output_type": "stream",
     "text": [
      "Seite 1 mit Seitengröße 5:\n",
      "The Danish Girl (IMDb: )\n",
      "Landet som icke èr (IMDb: )\n",
      "A Bigger Splash (IMDb: )\n",
      "Catching the Sun (IMDb: )\n",
      "La nao capitana (IMDb: )\n"
     ]
    }
   ],
   "execution_count": 1
  },
  {
   "metadata": {},
   "cell_type": "code",
   "outputs": [],
   "execution_count": null,
   "source": "",
   "id": "f6039f2eaec9e338"
  }
 ],
 "metadata": {
  "kernelspec": {
   "display_name": "Python 3",
   "language": "python",
   "name": "python3"
  },
  "language_info": {
   "codemirror_mode": {
    "name": "ipython",
    "version": 2
   },
   "file_extension": ".py",
   "mimetype": "text/x-python",
   "name": "python",
   "nbconvert_exporter": "python",
   "pygments_lexer": "ipython2",
   "version": "2.7.6"
  }
 },
 "nbformat": 4,
 "nbformat_minor": 5
}
