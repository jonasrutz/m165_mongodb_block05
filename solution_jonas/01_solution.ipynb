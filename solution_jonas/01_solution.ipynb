{
 "cells": [
  {
   "metadata": {},
   "cell_type": "markdown",
   "source": "Verbinden Sie sich mit Ihrer Datenbank.",
   "id": "938b3c367c1f2ddc"
  },
  {
   "metadata": {
    "ExecuteTime": {
     "end_time": "2024-12-17T07:36:48.788845Z",
     "start_time": "2024-12-17T07:36:48.783362Z"
    }
   },
   "cell_type": "code",
   "source": [
    "import pymongo\n",
    "myclient = pymongo.MongoClient(\"mongodb://localhost:27017/\")\n",
    "mydb = myclient[\"moviesDB\"]"
   ],
   "id": "7fedeb27e6c77fdc",
   "outputs": [],
   "execution_count": 10
  },
  {
   "metadata": {
    "ExecuteTime": {
     "end_time": "2024-12-17T07:34:49.925303Z",
     "start_time": "2024-12-17T07:34:49.919970Z"
    }
   },
   "cell_type": "code",
   "source": "print(myclient.list_database_names())",
   "id": "d3199c9ce6fe1e8b",
   "outputs": [
    {
     "name": "stdout",
     "output_type": "stream",
     "text": [
      "['admin', 'config', 'local', 'moviesDB']\n"
     ]
    }
   ],
   "execution_count": 5
  },
  {
   "metadata": {},
   "cell_type": "markdown",
   "source": "Erstellen Sie eine Filmcollection und fügen Sie die folgenden Beispieldaten ein data1.json.",
   "id": "e1ba67e6f49e2d3a"
  },
  {
   "metadata": {
    "ExecuteTime": {
     "end_time": "2024-12-17T07:38:15.649400Z",
     "start_time": "2024-12-17T07:38:15.644289Z"
    }
   },
   "cell_type": "code",
   "source": [
    "myclient = pymongo.MongoClient(\"mongodb://localhost:27017/\")\n",
    "mydb = myclient[\"moviesDB\"]\n",
    "mycol = mydb[\"movies\"]"
   ],
   "id": "d57775c9306d521d",
   "outputs": [],
   "execution_count": 11
  },
  {
   "metadata": {
    "ExecuteTime": {
     "end_time": "2024-12-17T07:42:43.252251Z",
     "start_time": "2024-12-17T07:42:43.233846Z"
    }
   },
   "cell_type": "code",
   "source": [
    "collist = mydb.list_collection_names()\n",
    "if \"movies\" in collist:\n",
    "  print(\"The collection exists.\")"
   ],
   "id": "b682b5ba99d23b61",
   "outputs": [
    {
     "name": "stdout",
     "output_type": "stream",
     "text": [
      "The collection exists.\n"
     ]
    }
   ],
   "execution_count": 13
  },
  {
   "metadata": {
    "ExecuteTime": {
     "end_time": "2024-12-17T07:49:31.465262Z",
     "start_time": "2024-12-17T07:49:31.405840Z"
    }
   },
   "cell_type": "code",
   "source": [
    "myclient = pymongo.MongoClient(\"mongodb://localhost:27017/\")\n",
    "mydb = myclient[\"moviesDB\"]\n",
    "mycol = mydb[\"movies\"]\n",
    "\n",
    "data1=[{\n",
    "    \"title\": \"Rocky\",\n",
    "    \"releaseDate\": \"1976-12-03\",\n",
    "    \"genre\": \"Action\",\n",
    "    \"about\": \"A small-time boxer gets a supremely rare chance to fight aheavy-weight champion in a bout in which he strives to go the distance for his self-respect.\",\n",
    "    \"countries\": [\"USA\"],\n",
    "    \"cast\": [\"Sylvester Stallone\", \"Talia Shire\", \"Burt Young\"],\n",
    "    \"writers\": [\"Sylvester Stallone\"],\n",
    "    \"directors\": [\"John G. Avildsen\"]\n",
    "}, {\n",
    "    \"title\": \"Rambo 4\",\n",
    "    \"releaseDate\": \"2008-01-25\",\n",
    "    \"genre\": \"Action\",\n",
    "    \"about\": \"In Thailand, John Rambo joins a group of mercenaries to venture into war-torn Burma, and rescue a group of Christian aid workers who were kidnapped by the ruthless local infantry unit.\",\n",
    "    \"countries\": [\"USA\"],\n",
    "    \"cast\": [\" Sylvester Stallone\", \"Julie Benz\", \"Matthew Marsden\"],\n",
    "    \"writers\": [\"Art Monterastelli\", \"Sylvester Stallone\"],\n",
    "    \"directors\": [\"Sylvester Stallone\"]\n",
    "}]\n",
    "\n",
    "movies = mycol.insert_many(data1)"
   ],
   "id": "df9a36540601784d",
   "outputs": [],
   "execution_count": 15
  },
  {
   "metadata": {},
   "cell_type": "markdown",
   "source": "Prüfen Sie, ob die Documents eingefügt wurden.",
   "id": "1bf947c45a743abe"
  },
  {
   "metadata": {
    "ExecuteTime": {
     "end_time": "2024-12-17T07:50:26.918077Z",
     "start_time": "2024-12-17T07:50:26.869642Z"
    }
   },
   "cell_type": "code",
   "source": [
    "print(movies.inserted_ids)\n",
    "\n",
    "for data1 in mycol.find():\n",
    "  print(data1)"
   ],
   "id": "141dc39724ef58ce",
   "outputs": [
    {
     "name": "stdout",
     "output_type": "stream",
     "text": [
      "[ObjectId('67612d0b062552add7965854'), ObjectId('67612d0b062552add7965855')]\n",
      "{'_id': ObjectId('67581eee11f341a516830276'), 'id': 14253, 'title': 'Beauty and the Beast', 'year': 2016, 'language': 'English', 'imdb_rating': {'rating': 7.1, 'votes': 341000}, 'tomatoes': {'viewer': {'raiting': 3.9, 'votes': 238}, 'critics': {'rating': 7.5, 'votes': 1000}}, 'fresh': 10, 'verotten': 50, 'genre': 'Romance', 'director': 'Christophe Gans', 'runtime': 112}\n",
      "{'_id': ObjectId('67581f6b11f341a51683027a'), 'id': 14253, 'title': 'Beauty and the Beast', 'year': 2016, 'language': 'English', 'imdb_rating': {'rating': 7.1, 'votes': 341000}, 'tomatoes': {'viewer': {'raiting': 3.9, 'votes': 238}, 'critics': {'rating': 7.5, 'votes': 1000}}, 'fresh': 10, 'verotten': 50, 'genre': 'Romance', 'director': 'Christophe Gans', 'runtime': 112}\n",
      "{'_id': ObjectId('67581f6b11f341a51683027d'), 'id': 14253, 'title': 'Beauty and the Beast', 'year': 2016, 'language': 'English', 'imdb_rating': {'rating': 7.1, 'votes': 341000}, 'tomatoes': {'viewer': {'rating': 3.9, 'votes': 238}, 'critics': {'rating': 7.5, 'votes': 1000}}}\n",
      "{'_id': ObjectId('67581ff6937201d278b067d3'), 'id': 14253, 'Title': 'Beauty and the Beast', 'year': 2016, 'language': 'English', 'genre': 'Romance', 'director': 'Christophe Gans', 'runtime': 112, 'imdb': {'rating': 6.4, 'votes': '17762'}, 'tomatoes': {'viewer': {'rating': 3.9, 'votes': 238}, 'critic': {'rating': 4.2, 'votes': 8}, 'fresh': 96, 'rotten': 7}, 'comments': [{'name': 'Max Musterman', 'email': 'max.musstermann@gmail.com', 'text': 'Very nice movie', 'date': '2023-08-22T11:45:03.000+00:00'}, {'name': 'Stefan Paulus', 'email': 'stefan.paulus@ksb-sg.ch', 'text': 'I would not recommend the movie.', 'date': '2024-06-22T07:31:47.000+00:00'}]}\n",
      "{'_id': ObjectId('67612d0b062552add7965854'), 'title': 'Rocky', 'releaseDate': '1976-12-03', 'genre': 'Action', 'about': 'A small-time boxer gets a supremely rare chance to fight aheavy-weight champion in a bout in which he strives to go the distance for his self-respect.', 'countries': ['USA'], 'cast': ['Sylvester Stallone', 'Talia Shire', 'Burt Young'], 'writers': ['Sylvester Stallone'], 'directors': ['John G. Avildsen']}\n",
      "{'_id': ObjectId('67612d0b062552add7965855'), 'title': 'Rambo 4', 'releaseDate': '2008-01-25', 'genre': 'Action', 'about': 'In Thailand, John Rambo joins a group of mercenaries to venture into war-torn Burma, and rescue a group of Christian aid workers who were kidnapped by the ruthless local infantry unit.', 'countries': ['USA'], 'cast': [' Sylvester Stallone', 'Julie Benz', 'Matthew Marsden'], 'writers': ['Art Monterastelli', 'Sylvester Stallone'], 'directors': ['Sylvester Stallone']}\n"
     ]
    }
   ],
   "execution_count": 16
  },
  {
   "metadata": {},
   "cell_type": "markdown",
   "source": "Erstellen Sie eine Reward-Collection und fügen Sie die folgenden Beispieldaten ein data2.json.",
   "id": "271670da2094fcfb"
  },
  {
   "metadata": {
    "ExecuteTime": {
     "end_time": "2024-12-17T07:53:58.369298Z",
     "start_time": "2024-12-17T07:53:58.363545Z"
    }
   },
   "cell_type": "code",
   "source": [
    "myclient = pymongo.MongoClient(\"mongodb://localhost:27017/\")\n",
    "mydb = myclient[\"moviesDB\"]\n",
    "mycol = mydb[\"Reward-Collection\"]"
   ],
   "id": "f2b350c856c5f2a9",
   "outputs": [],
   "execution_count": 17
  },
  {
   "metadata": {
    "ExecuteTime": {
     "end_time": "2024-12-17T07:54:56.851081Z",
     "start_time": "2024-12-17T07:54:56.846769Z"
    }
   },
   "cell_type": "code",
   "source": [
    "collist = mydb.list_collection_names()\n",
    "if \"Reward-Collection\" in collist:\n",
    "  print(\"The collection exists.\")\n",
    "else: \n",
    "    print(\"The collection does not exist.\")"
   ],
   "id": "b30c655fcc90097b",
   "outputs": [
    {
     "name": "stdout",
     "output_type": "stream",
     "text": [
      "The collection does not exist.\n"
     ]
    }
   ],
   "execution_count": 19
  },
  {
   "metadata": {
    "ExecuteTime": {
     "end_time": "2024-12-17T07:56:27.381153Z",
     "start_time": "2024-12-17T07:56:27.291774Z"
    }
   },
   "cell_type": "code",
   "source": [
    "myclient = pymongo.MongoClient(\"mongodb://localhost:27017/\")\n",
    "mydb = myclient[\"moviesDB\"]\n",
    "mycol = mydb[\"Reward-Collection\"]\n",
    "\n",
    "data2=[{\n",
    "    \"title\": \"Oscars\",\n",
    "    \"year\": \"1976\",\n",
    "    \"category\": \"Best Film\",\n",
    "    \"nominees\": [\"Rocky\",\"All The President's Men\",\"Bound For Glory\",\"Network\",\"Taxi Driver\"],\n",
    "    \"winners\" :\n",
    "    [\n",
    "        {\n",
    "            \"movie\" : \"Rocky\"\n",
    "        }\n",
    "    ]\n",
    "}, {\n",
    "    \"title\": \"Oscars\",\n",
    "    \"year\": \"1976\",\n",
    "    \"category\": \"Actor In A Leading Role\",\n",
    "    \"nominees\": [\"PETER FINCH\",\"ROBERT DE NIRO\",\"GIANCARLO GIANNINI\",\"WILLIAM  HOLDEN\",\"SYLVESTER STALLONE\"],\n",
    "    \"winners\" :\n",
    "    [\n",
    "        {\n",
    "            \"actor\" : \"PETER FINCH\",\n",
    "            \"movie\" : \"Network\"\n",
    "        }\n",
    "    ]\n",
    "}]\n",
    "\n",
    "movies = mycol.insert_many(data2)"
   ],
   "id": "86d7efd99508b1cb",
   "outputs": [],
   "execution_count": 21
  },
  {
   "metadata": {
    "ExecuteTime": {
     "end_time": "2024-12-17T07:57:46.767061Z",
     "start_time": "2024-12-17T07:57:46.751877Z"
    }
   },
   "cell_type": "code",
   "source": [
    "print(movies.inserted_ids)\n",
    "\n",
    "for data2 in mycol.find():\n",
    "  print(data2)"
   ],
   "id": "7f310bec41bfacd9",
   "outputs": [
    {
     "name": "stdout",
     "output_type": "stream",
     "text": [
      "[ObjectId('67612eab062552add7965859'), ObjectId('67612eab062552add796585a')]\n",
      "{'_id': ObjectId('67612eab062552add7965859'), 'title': 'Oscars', 'year': '1976', 'category': 'Best Film', 'nominees': ['Rocky', \"All The President's Men\", 'Bound For Glory', 'Network', 'Taxi Driver'], 'winners': [{'movie': 'Rocky'}]}\n",
      "{'_id': ObjectId('67612eab062552add796585a'), 'title': 'Oscars', 'year': '1976', 'category': 'Actor In A Leading Role', 'nominees': ['PETER FINCH', 'ROBERT DE NIRO', 'GIANCARLO GIANNINI', 'WILLIAM  HOLDEN', 'SYLVESTER STALLONE'], 'winners': [{'actor': 'PETER FINCH', 'movie': 'Network'}]}\n"
     ]
    }
   ],
   "execution_count": 23
  },
  {
   "metadata": {},
   "cell_type": "markdown",
   "source": "",
   "id": "cf195a325609b38c"
  },
  {
   "metadata": {
    "ExecuteTime": {
     "end_time": "2024-12-17T08:02:20.604246Z",
     "start_time": "2024-12-17T08:02:20.573539Z"
    }
   },
   "cell_type": "code",
   "source": [
    "myclient = pymongo.MongoClient(\"mongodb://localhost:27017/\")\n",
    "mydb = myclient[\"moviesDB\"]\n",
    "mycol = mydb[\"Reward-Collection\"]\n",
    "mycol.drop()\n",
    "\n",
    "mycol = mydb[\"movies\"]\n",
    "mycol.drop()"
   ],
   "id": "beb92801f1afaef1",
   "outputs": [],
   "execution_count": 24
  },
  {
   "metadata": {
    "ExecuteTime": {
     "end_time": "2024-12-17T08:08:40.991560Z",
     "start_time": "2024-12-17T08:08:40.972795Z"
    }
   },
   "cell_type": "code",
   "source": "myclient.drop_database(\"moviesDB\")",
   "id": "186a53024ccb21e6",
   "outputs": [],
   "execution_count": 28
  },
  {
   "metadata": {
    "ExecuteTime": {
     "end_time": "2024-12-17T08:08:58.081708Z",
     "start_time": "2024-12-17T08:08:58.076831Z"
    }
   },
   "cell_type": "code",
   "source": "print(myclient.list_database_names())",
   "id": "bdb1906a88cda271",
   "outputs": [
    {
     "name": "stdout",
     "output_type": "stream",
     "text": [
      "['admin', 'config', 'local']\n"
     ]
    }
   ],
   "execution_count": 29
  }
 ],
 "metadata": {
  "kernelspec": {
   "display_name": "Python 3",
   "language": "python",
   "name": "python3"
  },
  "language_info": {
   "codemirror_mode": {
    "name": "ipython",
    "version": 2
   },
   "file_extension": ".py",
   "mimetype": "text/x-python",
   "name": "python",
   "nbconvert_exporter": "python",
   "pygments_lexer": "ipython2",
   "version": "2.7.6"
  }
 },
 "nbformat": 4,
 "nbformat_minor": 5
}
